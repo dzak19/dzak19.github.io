{
  "nbformat": 4,
  "nbformat_minor": 0,
  "metadata": {
    "colab": {
      "name": "Untitled3.ipynb",
      "provenance": [],
      "authorship_tag": "ABX9TyMdxEb+8NgeQ7jYqjHbLVtp"
    },
    "kernelspec": {
      "name": "python3",
      "display_name": "Python 3"
    },
    "language_info": {
      "name": "python"
    }
  },
  "cells": [
    {
      "cell_type": "markdown",
      "source": [
        "**Do NFL teams need to stop the run in order to win games?**"
      ],
      "metadata": {
        "id": "c_1AHjJuoHDT"
      }
    }
  ]
}